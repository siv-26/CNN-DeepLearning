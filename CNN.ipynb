{
 "cells": [
  {
   "cell_type": "code",
   "execution_count": 1,
   "metadata": {},
   "outputs": [],
   "source": [
    "#imports\n",
    "import tensorflow as tf\n",
    "from tensorflow import keras\n",
    "from tensorflow.keras.preprocessing.image import ImageDataGenerator\n",
    "from tensorflow.keras import layers\n",
    "import numpy as np\n",
    "from tensorflow.keras.preprocessing import image"
   ]
  },
  {
   "cell_type": "code",
   "execution_count": 2,
   "metadata": {},
   "outputs": [
    {
     "name": "stdout",
     "output_type": "stream",
     "text": [
      "Found 8000 images belonging to 2 classes.\n"
     ]
    }
   ],
   "source": [
    "#creating training dataset\n",
    "train_datagen = ImageDataGenerator(\n",
    "                rescale = 1./255,\n",
    "                shear_range = 0.2,\n",
    "                zoom_range = 0.2,\n",
    "                horizontal_flip = True)\n",
    "training_set = train_datagen.flow_from_directory(\n",
    "                'training_set',\n",
    "                target_size = (64,64),\n",
    "                batch_size = 32,\n",
    "                class_mode = 'binary')"
   ]
  },
  {
   "cell_type": "code",
   "execution_count": 3,
   "metadata": {},
   "outputs": [
    {
     "name": "stdout",
     "output_type": "stream",
     "text": [
      "Found 2000 images belonging to 2 classes.\n"
     ]
    }
   ],
   "source": [
    "#creating test dataset\n",
    "test_datagen = ImageDataGenerator(rescale = 1./255)\n",
    "test_set = test_datagen.flow_from_directory(\n",
    "                'test_set',\n",
    "                target_size = (64,64),\n",
    "                batch_size = 32,\n",
    "                class_mode = 'binary')"
   ]
  },
  {
   "cell_type": "code",
   "execution_count": 5,
   "metadata": {},
   "outputs": [
    {
     "name": "stdout",
     "output_type": "stream",
     "text": [
      "WARNING:tensorflow:sample_weight modes were coerced from\n",
      "  ...\n",
      "    to  \n",
      "  ['...']\n",
      "WARNING:tensorflow:sample_weight modes were coerced from\n",
      "  ...\n",
      "    to  \n",
      "  ['...']\n",
      "Train for 250 steps, validate for 63 steps\n",
      "Epoch 1/25\n",
      "250/250 [==============================] - 87s 348ms/step - loss: 0.6913 - accuracy: 0.5540 - val_loss: 0.6412 - val_accuracy: 0.6240\n",
      "Epoch 2/25\n",
      "250/250 [==============================] - 32s 127ms/step - loss: 0.6229 - accuracy: 0.6582 - val_loss: 0.5782 - val_accuracy: 0.7055\n",
      "Epoch 3/25\n",
      "250/250 [==============================] - 33s 132ms/step - loss: 0.5923 - accuracy: 0.6851 - val_loss: 0.5692 - val_accuracy: 0.7055\n",
      "Epoch 4/25\n",
      "250/250 [==============================] - 43s 170ms/step - loss: 0.5554 - accuracy: 0.7163 - val_loss: 0.5473 - val_accuracy: 0.7280\n",
      "Epoch 5/25\n",
      "250/250 [==============================] - 40s 159ms/step - loss: 0.5370 - accuracy: 0.7274 - val_loss: 0.5331 - val_accuracy: 0.7450\n",
      "Epoch 6/25\n",
      "250/250 [==============================] - 36s 142ms/step - loss: 0.5224 - accuracy: 0.7364 - val_loss: 0.5175 - val_accuracy: 0.7545\n",
      "Epoch 7/25\n",
      "250/250 [==============================] - 34s 135ms/step - loss: 0.4964 - accuracy: 0.7577 - val_loss: 0.5010 - val_accuracy: 0.7595\n",
      "Epoch 8/25\n",
      "250/250 [==============================] - 34s 134ms/step - loss: 0.4840 - accuracy: 0.7661 - val_loss: 0.5047 - val_accuracy: 0.7620\n",
      "Epoch 9/25\n",
      "250/250 [==============================] - 34s 137ms/step - loss: 0.4608 - accuracy: 0.7779 - val_loss: 0.4953 - val_accuracy: 0.7745\n",
      "Epoch 10/25\n",
      "250/250 [==============================] - 35s 138ms/step - loss: 0.4594 - accuracy: 0.7780 - val_loss: 0.4921 - val_accuracy: 0.7780\n",
      "Epoch 11/25\n",
      "250/250 [==============================] - 34s 135ms/step - loss: 0.4390 - accuracy: 0.7916 - val_loss: 0.4841 - val_accuracy: 0.7810\n",
      "Epoch 12/25\n",
      "250/250 [==============================] - 34s 136ms/step - loss: 0.4334 - accuracy: 0.7961 - val_loss: 0.4867 - val_accuracy: 0.7805\n",
      "Epoch 13/25\n",
      "250/250 [==============================] - 34s 135ms/step - loss: 0.4209 - accuracy: 0.8024 - val_loss: 0.4950 - val_accuracy: 0.7830\n",
      "Epoch 14/25\n",
      "250/250 [==============================] - 34s 135ms/step - loss: 0.4140 - accuracy: 0.8086 - val_loss: 0.4700 - val_accuracy: 0.7880\n",
      "Epoch 15/25\n",
      "250/250 [==============================] - 34s 136ms/step - loss: 0.4064 - accuracy: 0.8115 - val_loss: 0.4855 - val_accuracy: 0.7795\n",
      "Epoch 16/25\n",
      "250/250 [==============================] - 34s 135ms/step - loss: 0.3872 - accuracy: 0.8199 - val_loss: 0.5194 - val_accuracy: 0.7640\n",
      "Epoch 17/25\n",
      "250/250 [==============================] - 34s 136ms/step - loss: 0.3844 - accuracy: 0.8220 - val_loss: 0.4871 - val_accuracy: 0.7915\n",
      "Epoch 18/25\n",
      "250/250 [==============================] - 36s 144ms/step - loss: 0.3676 - accuracy: 0.8367 - val_loss: 0.5199 - val_accuracy: 0.7685\n",
      "Epoch 19/25\n",
      "250/250 [==============================] - 37s 147ms/step - loss: 0.3657 - accuracy: 0.8381 - val_loss: 0.5248 - val_accuracy: 0.7705\n",
      "Epoch 20/25\n",
      "250/250 [==============================] - 34s 135ms/step - loss: 0.3486 - accuracy: 0.8428 - val_loss: 0.5124 - val_accuracy: 0.7910\n",
      "Epoch 21/25\n",
      "250/250 [==============================] - 32s 126ms/step - loss: 0.3413 - accuracy: 0.8494 - val_loss: 0.5268 - val_accuracy: 0.7815\n",
      "Epoch 22/25\n",
      "250/250 [==============================] - 31s 126ms/step - loss: 0.3257 - accuracy: 0.8551 - val_loss: 0.4846 - val_accuracy: 0.7895\n",
      "Epoch 23/25\n",
      "250/250 [==============================] - 32s 127ms/step - loss: 0.3192 - accuracy: 0.8616 - val_loss: 0.4955 - val_accuracy: 0.8055\n",
      "Epoch 24/25\n",
      "250/250 [==============================] - 32s 126ms/step - loss: 0.2979 - accuracy: 0.8715 - val_loss: 0.5239 - val_accuracy: 0.7970\n",
      "Epoch 25/25\n",
      "250/250 [==============================] - 32s 126ms/step - loss: 0.2988 - accuracy: 0.8660 - val_loss: 0.5324 - val_accuracy: 0.7895\n"
     ]
    },
    {
     "data": {
      "text/plain": [
       "<tensorflow.python.keras.callbacks.History at 0x2b47679e2c8>"
      ]
     },
     "execution_count": 5,
     "metadata": {},
     "output_type": "execute_result"
    }
   ],
   "source": [
    "#creating cnn model\n",
    "cnn = keras.Sequential()\n",
    "\n",
    "cnn.add(layers.Conv2D(filters=32,kernel_size=3,activation='relu',input_shape=[64,64,3]))\n",
    "cnn.add(layers.MaxPool2D(pool_size=2,strides=2))\n",
    "\n",
    "cnn.add(layers.Conv2D(filters=32,kernel_size=3,activation='relu'))\n",
    "cnn.add(layers.MaxPool2D(pool_size=2,strides=2))\n",
    "\n",
    "cnn.add(layers.Flatten())\n",
    "\n",
    "cnn.add(layers.Dense(units=128,activation='relu'))\n",
    "cnn.add(layers.Dense(units=1,activation='sigmoid'))\n",
    "\n",
    "cnn.compile(optimizer='adam',loss='binary_crossentropy',metrics=['accuracy'])\n",
    "cnn.fit(x=training_set,validation_data=test_set,epochs=25)"
   ]
  },
  {
   "cell_type": "code",
   "execution_count": 6,
   "metadata": {},
   "outputs": [],
   "source": [
    "#creating prediction image, adding proper dimensions for cnn\n",
    "test_image = image.load_img('single_prediction/cat_or_dog_1.jpg',target_size=(64,64))\n",
    "test_image = image.img_to_array(test_image)\n",
    "test_image = np.expand_dims(test_image,axis=0)#added batch size as dimension for imput image\n",
    "result = cnn.predict(test_image)\n",
    "\n",
    "if result[0][0]==1:\n",
    "    prediction = 'dog'\n",
    "else:\n",
    "    prediction = 'cat'"
   ]
  },
  {
   "cell_type": "code",
   "execution_count": 7,
   "metadata": {},
   "outputs": [
    {
     "name": "stdout",
     "output_type": "stream",
     "text": [
      "dog\n"
     ]
    }
   ],
   "source": [
    "print(prediction)"
   ]
  }
 ],
 "metadata": {
  "kernelspec": {
   "display_name": "Python 3.7 (tensorflow)",
   "language": "python",
   "name": "tensorflow"
  },
  "language_info": {
   "codemirror_mode": {
    "name": "ipython",
    "version": 3
   },
   "file_extension": ".py",
   "mimetype": "text/x-python",
   "name": "python",
   "nbconvert_exporter": "python",
   "pygments_lexer": "ipython3",
   "version": "3.7.7"
  }
 },
 "nbformat": 4,
 "nbformat_minor": 4
}
